{
  "cells": [
    {
      "cell_type": "code",
      "execution_count": null,
      "metadata": {
        "id": "coafKmqA4XHK"
      },
      "outputs": [],
      "source": [
        "import pandas as pd\n",
        "import numpy as np\n",
        "\n",
        "import matplotlib.pyplot as plt\n",
        "import seaborn as sns\n",
        "\n",
        "SEED = 42\n",
        "pd.set_option(\"display.max_columns\", None)"
      ]
    },
    {
      "cell_type": "code",
      "execution_count": null,
      "metadata": {
        "id": "1JyE9e7sb1sy"
      },
      "outputs": [],
      "source": [
        "from google.colab import drive\n",
        "drive.mount('/content/drive')"
      ]
    },
    {
      "cell_type": "code",
      "execution_count": null,
      "metadata": {
        "id": "FBljl7O14yYJ"
      },
      "outputs": [],
      "source": [
        "df = pd.read_csv('/content/drive/MyDrive/data.csv', delimiter='\\t')"
      ]
    },
    {
      "cell_type": "code",
      "execution_count": null,
      "metadata": {
        "id": "CJMbguXd7_ZG"
      },
      "outputs": [],
      "source": [
        "removedFeatures = [f'Q{i}E' for i in range(1, 43)] # add feature 'Q1E' to 'Q42E' to be removed\n",
        "removedFeatures.extend([f'Q{i}I' for i in range(1, 43)]) # add feature 'Q1E' to 'Q42E' to be removed\n",
        "removedFeatures.extend([f'VCL{i}' for i in range(1, 17)]) # add feature 'VCL1' to 'VCL16' to be removed\n",
        "removedFeatures.extend([ 'source', 'introelapse', 'testelapse', 'surveyelapse', 'engnat', 'hand', 'orientation',\n",
        "    'voted', 'country', 'screensize', 'uniquenetworklocation','religion','major','urban'])\n",
        "depression = df.drop(removedFeatures, axis=1)\n",
        "depression.head()\n"
      ]
    },
    {
      "cell_type": "code",
      "execution_count": null,
      "metadata": {
        "id": "cQpKzPwb-Otz"
      },
      "outputs": [],
      "source": [
        "removed_Question_featured=['Q2A','Q3A','Q5A','Q6A','Q7A','Q9A','Q10A','Q12A','Q13A','Q14A','Q15A','Q17A','Q18A','Q19A','Q20A','Q21A','Q23A','Q24A','Q25A','Q26A','Q27A','Q28A','Q30A','Q31A','Q32A','Q33A','Q35A','Q36A','Q37A','Q39A','Q41A']\n",
        "depression=depression.drop(removed_Question_featured,axis=1)"
      ]
    },
    {
      "cell_type": "code",
      "execution_count": null,
      "metadata": {
        "id": "PvemmxvW_4S_"
      },
      "outputs": [],
      "source": [
        "depression.head()"
      ]
    },
    {
      "cell_type": "code",
      "execution_count": null,
      "metadata": {
        "id": "_UuBSTIyOzAT"
      },
      "outputs": [],
      "source": [
        "depression.columns=['Q1','Q4','Q8','Q11','Q16','Q22','Q29','Q34','Q38','Q40','Q42','TIPI1','TIPI2',\t'TIPI3'\t,'TIPI4',\t'TIPI5'\t,'TIPI6'\t,'TIPI7',\t'TIPI8',\t'TIPI9',\t'TIPI10'\t,'Education',\t'Gender',\t'Age'\t,'Race',\t'Married',\t'Familysize']\n",
        "depression.head()"
      ]
    },
    {
      "cell_type": "code",
      "execution_count": null,
      "metadata": {
        "id": "81GpjWKZATXO"
      },
      "outputs": [],
      "source": [
        "depression.shape"
      ]
    },
    {
      "cell_type": "code",
      "execution_count": null,
      "metadata": {
        "id": "sxKhxcEJAvWM"
      },
      "outputs": [],
      "source": [
        "# plt.figure(figsize=(10, 6))\n",
        "# sns.heatmap(depression.isnull())"
      ]
    },
    {
      "cell_type": "code",
      "execution_count": null,
      "metadata": {
        "id": "KNIad2Z-BCSg"
      },
      "outputs": [],
      "source": [
        "depression.isnull().sum()\n"
      ]
    },
    {
      "cell_type": "code",
      "execution_count": null,
      "metadata": {
        "id": "wMqRBh-0BnfK"
      },
      "outputs": [],
      "source": [
        "depression['Education'] = depression['Education'].map({ 0: 1,  1: 1, 2: 2, 3: 3, 4: 4 })\n",
        "\n",
        "def changeEducationTitle(title) -> str:\n",
        "    if title == 0 or title == 1:\n",
        "        return 'Less than high school'\n",
        "    if title == 2:\n",
        "        return 'High school'\n",
        "    if title == 3:\n",
        "        return 'University degree'\n",
        "    if title == 4:\n",
        "        return 'Graduate degree'\n",
        "    return title\n",
        "\n",
        "\n",
        "education_string = depression['Education'].apply(changeEducationTitle)\n",
        "\n",
        "\n",
        "plt.figure(figsize=(10, 4))\n",
        "sns.countplot(x=depression['Education'], hue=education_string)\n"
      ]
    },
    {
      "cell_type": "code",
      "execution_count": null,
      "metadata": {
        "id": "Gu5UK_9kDKbu"
      },
      "outputs": [],
      "source": [
        "depression['Gender'] = depression['Gender'].map({0: 2, 1: 1, 2: 2, 3: 3})\n",
        "\n",
        "def changeGenderValue(value):\n",
        "    if value == 1:\n",
        "        return 'Male'\n",
        "    if value == 2 or value == 0: # value = 0 means user didn't enter this value, we assume it's female as most records are\n",
        "        return 'Female'\n",
        "    return 'Other' # if 3 or 0 return other as value\n",
        "\n",
        "gender = depression['Gender'].apply(changeGenderValue)\n",
        "\n",
        "plt.figure(figsize=(8, 4))\n",
        "sns.countplot(x = depression['Gender'], hue=gender)"
      ]
    },
    {
      "cell_type": "code",
      "execution_count": null,
      "metadata": {
        "id": "FDegA2P8DejE"
      },
      "outputs": [],
      "source": [
        "depression['Race'] = depression['Race'].apply(lambda x: x/10)\n",
        "depression['Race'].head()"
      ]
    },
    {
      "cell_type": "code",
      "execution_count": null,
      "metadata": {
        "id": "TIaAlUDgDgLJ"
      },
      "outputs": [],
      "source": [
        "def changeRaceValues(value)->str:\n",
        "    if value == 1:\n",
        "        return 'Asian'\n",
        "    if value == 2:\n",
        "        return 'Arab'\n",
        "    if value == 3:\n",
        "        return 'Black'\n",
        "    if value == 4:\n",
        "        return 'Indigenous Australian'\n",
        "    if value == 5:\n",
        "        return 'Native American'\n",
        "    if value == 6:\n",
        "        return 'White'\n",
        "    if value == 7:\n",
        "        return 'Other'\n",
        "\n",
        "    return value\n",
        "\n",
        "race = depression['Race'].apply(changeRaceValues)\n",
        "\n",
        "display(depression['Race'].value_counts())\n",
        "\n",
        "plt.figure(figsize=(8,4))\n",
        "sns.countplot(x=depression['Race'], hue=race)"
      ]
    },
    {
      "cell_type": "code",
      "execution_count": null,
      "metadata": {
        "id": "KUx-rQuJE7DQ"
      },
      "outputs": [],
      "source": [
        "indexes = depression[depression['Familysize'] > 13].index\n",
        "\n",
        "print(f'Depression size before: {depression.shape[0]}')\n",
        "depression = depression.drop(indexes, axis=0)\n",
        "print(f'Depression size after: {depression.shape[0]}')\n",
        "\n",
        "plt.figure(figsize=(18, 5))\n",
        "sns.countplot(x=depression['Familysize'])\n"
      ]
    },
    {
      "cell_type": "code",
      "execution_count": null,
      "metadata": {
        "id": "UgO7Ls2vF7by"
      },
      "outputs": [],
      "source": [
        "age_indexes = depression[depression['Age'] > 65]['Age'].index\n",
        "\n",
        "display(age_indexes) # figure out how many\n",
        "\n",
        "\n",
        "print(f'Depression size before: {depression.shape[0]}')\n",
        "depression.drop(age_indexes, axis=0, inplace=True)\n",
        "print(f'Depression size after: {depression.shape[0]}')"
      ]
    },
    {
      "cell_type": "code",
      "execution_count": null,
      "metadata": {
        "id": "iXAG-dOdG-iD"
      },
      "outputs": [],
      "source": [
        "def makeAgeGroup(value):\n",
        "    if value <= 10:\n",
        "        return 'Under 10'\n",
        "    if  10 <= value <= 16:\n",
        "        return 'Primary Children'\n",
        "    if 17 <= value <= 21:\n",
        "        return 'Secondary Children'\n",
        "    if 21 <= value <= 35:\n",
        "        return 'Adults'\n",
        "    if 36 <= value <= 48:\n",
        "        return 'Elder Adults'\n",
        "    if value >= 49:\n",
        "        return 'Older People'\n",
        "\n",
        "age = depression['Age'].apply(makeAgeGroup)\n",
        "\n",
        "plt.figure(figsize=(16, 4))\n",
        "sns.countplot(x=depression['Age'], hue=age)\n"
      ]
    },
    {
      "cell_type": "code",
      "execution_count": null,
      "metadata": {
        "id": "eCqupiSOHuZp"
      },
      "outputs": [],
      "source": [
        "def makeAgeGroupFeature(value):\n",
        "    if value <= 10:\n",
        "        return 1\n",
        "    if  10 <= value <= 16:\n",
        "        return 2\n",
        "    if 17 <= value <= 21:\n",
        "        return 3\n",
        "    if 22 <= value <= 35:\n",
        "        return 4\n",
        "    if 36 <= value <= 48:\n",
        "        return 5\n",
        "    if value >= 49:\n",
        "        return 6\n",
        "\n",
        "depression['Age_group'] = depression['Age'].apply(makeAgeGroupFeature)\n",
        "\n",
        "depression.drop('Age', axis=1, inplace=True)\n",
        "depression.head()\n",
        "\n"
      ]
    },
    {
      "cell_type": "code",
      "execution_count": null,
      "metadata": {
        "id": "DYRZ2z5OH3IM"
      },
      "outputs": [],
      "source": [
        "depression['Total_count']  = depression.sum(axis=1)\n",
        "depression.head()"
      ]
    },
    {
      "cell_type": "code",
      "execution_count": null,
      "metadata": {
        "id": "tIz8JY66IS9o"
      },
      "outputs": [],
      "source": [
        "# depression[depression['Total_count']>89]['Total_count'].describe()"
      ]
    },
    {
      "cell_type": "code",
      "execution_count": null,
      "metadata": {
        "id": "PQH28K0cM_jw"
      },
      "outputs": [],
      "source": [
        "def buildTarget(value):\n",
        "    if value <= 75:\n",
        "        return 'Normal'\n",
        "    if 75 < value <= 80:\n",
        "        return 'Mild'\n",
        "    if 80 < value <= 88:\n",
        "        return 'Moderate'\n",
        "    if 88 < value <= 96:\n",
        "        return 'Severe'\n",
        "    if value > 96:\n",
        "        return 'Extremely Severe'\n",
        "\n",
        "\n",
        "depression['Target'] = depression['Total_count'].apply(buildTarget)\n",
        "\n",
        "depression.head()\n"
      ]
    },
    {
      "cell_type": "code",
      "execution_count": null,
      "metadata": {
        "id": "RL-_wuFNNrLz"
      },
      "outputs": [],
      "source": [
        "plt.figure(figsize=(16, 4))\n",
        "sns.countplot(x=depression['Target'])"
      ]
    },
    {
      "cell_type": "code",
      "execution_count": null,
      "metadata": {
        "id": "X95K2WJnOEKi"
      },
      "outputs": [],
      "source": [
        "target = depression['Target']\n",
        "processed_data=depression['Total_count']\n",
        "depression.drop(['Target', 'Total_count'], axis=1, inplace=True)"
      ]
    },
    {
      "cell_type": "code",
      "execution_count": null,
      "metadata": {
        "id": "JY8gsA-9LxE6"
      },
      "outputs": [],
      "source": [
        "depression.head()"
      ]
    },
    {
      "cell_type": "code",
      "execution_count": null,
      "metadata": {
        "id": "piuc-XqkOQgL"
      },
      "outputs": [],
      "source": [
        "from sklearn.model_selection import train_test_split\n",
        "x_train, x_test, y_train, y_test = train_test_split(depression, target, test_size=.2,random_state=77)\n",
        "\n",
        "print(f'x_train: {x_train.shape}, y_train: {y_train.shape}')\n",
        "print(f'x_test: {x_test.shape}, y_test: {y_test.shape}')"
      ]
    },
    {
      "cell_type": "code",
      "execution_count": null,
      "metadata": {
        "id": "Ovs2gIeUOkIo"
      },
      "outputs": [],
      "source": [
        "from sklearn.preprocessing import StandardScaler, MinMaxScaler\n",
        "\n",
        "scaler = MinMaxScaler()\n",
        "\n",
        "x_train_scaled = scaler.fit_transform(x_train)\n",
        "x_test_scaled = scaler.transform(x_test)"
      ]
    },
    {
      "cell_type": "code",
      "execution_count": null,
      "metadata": {
        "id": "EE5gmw9eOzB7"
      },
      "outputs": [],
      "source": [
        "from sklearn.svm import SVC\n",
        "\n",
        "svc_clf = SVC()\n",
        "\n",
        "model=svc_clf.fit(x_train_scaled, y_train)"
      ]
    },
    {
      "cell_type": "code",
      "execution_count": null,
      "metadata": {
        "id": "KYEJbc0EO_hR"
      },
      "outputs": [],
      "source": [
        "# from sklearn.model_selection import cross_val_score\n",
        "\n",
        "# cross_score = cross_val_score(svc_clf, x_train_scaled, y_train, cv=5)\n",
        "# print(f'Mean Score {np.mean(cross_score)}')"
      ]
    },
    {
      "cell_type": "code",
      "execution_count": null,
      "metadata": {
        "id": "VEcHt_9vQO9q"
      },
      "outputs": [],
      "source": [
        "from sklearn.metrics import classification_report\n",
        "\n",
        "y_pred_svc = svc_clf.predict(x_test_scaled)\n",
        "  print(classification_report(y_test, y_pred_svc))"
      ]
    },
    {
      "cell_type": "code",
      "execution_count": null,
      "metadata": {
        "id": "JtYW0qW2PtGE"
      },
      "outputs": [],
      "source": [
        "svc_clf.score(x_test_scaled, y_test)"
      ]
    },
    {
      "cell_type": "code",
      "execution_count": null,
      "metadata": {
        "id": "HAkUX4nG52l5"
      },
      "outputs": [],
      "source": [
        "from sklearn.metrics import accuracy_score,confusion_matrix,classification_report"
      ]
    },
    {
      "cell_type": "code",
      "execution_count": null,
      "metadata": {
        "id": "ul2de5Nw-PEd"
      },
      "outputs": [],
      "source": [
        "def pretty_confusion_matrix(y_test, y_pred, labels = ['Extreme', 'Severe','Moderate','Mild','Normal']):\n",
        "    cm = confusion_matrix(y_test, y_pred)\n",
        "    pred_labels = ['Predicted ' + i for i in labels]\n",
        "    df = pd.DataFrame(cm, columns = pred_labels, index = labels)\n",
        "    return df\n",
        "\n",
        "results_plot = pretty_confusion_matrix(y_test, y_pred_svc,['Extreme', 'Severe','Moderate','Mild','Normal'])\n",
        "results_plot"
      ]
    },
    {
      "cell_type": "code",
      "execution_count": null,
      "metadata": {
        "id": "kZeTVddBrXmy"
      },
      "outputs": [],
      "source": [
        "depression.head()"
      ]
    },
    {
      "cell_type": "code",
      "execution_count": null,
      "metadata": {
        "id": "4iqhIu9arBdu"
      },
      "outputs": [],
      "source": [
        "processed_data.head()"
      ]
    },
    {
      "cell_type": "code",
      "execution_count": null,
      "metadata": {
        "id": "n-CCbHnMHz4n"
      },
      "outputs": [],
      "source": [
        "import pickle\n",
        "\n",
        "pickle.dump(model, open(\"model.pkl\", \"wb\"))"
      ]
    },
    {
      "cell_type": "code",
      "execution_count": null,
      "metadata": {
        "id": "FmUo7sazMKYo"
      },
      "outputs": [],
      "source": [
        "%pip install gradio\n",
        "import gradio as gr"
      ]
    },
    {
      "cell_type": "code",
      "execution_count": null,
      "metadata": {
        "id": "kNBkzZi0KyBH"
      },
      "outputs": [],
      "source": [
        "def make_prediction(A,Q1\t,Q4\t,Q8\t,Q11\t,Q16\t,Q22\t,Q29,\tQ34\t,Q38\t,Q40\t,Q42,B,TIPI1\t,TIPI2\t,TIPI3\t,TIPI4\t,TIPI5\t,TIPI6\t,TIPI7,\tTIPI8\t,TIPI9\t,TIPI10\t,C,education,D,gender\t,E,race\t,F,married,familysize\t,H,age_group):\n",
        "    model_working=pickle.load(open('model.pkl','rb'))\n",
        "    answer=np.array([Q1\t,Q4\t,Q8\t,Q11\t,Q16\t,Q22\t,Q29,\tQ34\t,Q38\t,Q40\t,Q42,TIPI1\t,TIPI2\t,TIPI3\t,TIPI4\t,TIPI5\t,TIPI6\t,TIPI7,\tTIPI8\t,TIPI9\t,TIPI10\t,education\t,gender\t,race\t,married\t,familysize\t,age_group])\n",
        "    answers_scaled=scaler.transform([answer])\n",
        "    predict=model_working.predict(answers_scaled)\n",
        "    return predict"
      ]
    },
    {
      "cell_type": "code",
      "execution_count": null,
      "metadata": {
        "id": "13a8FwrPNCeJ"
      },
      "outputs": [],
      "source": [
        "app=gr.Interface(make_prediction,\n",
        "                 inputs=[\n",
        "                     gr.Markdown('''Question 1-11 have to be answer as per the no. range outlined below:\\n\n",
        "                                        1 = Did not apply to me at all\\n\n",
        "                                        2 = Applied to me to some degree, or some of the time\\n\n",
        "                                        3 = Applied to me to a considerable degree, or a good part of the time\\n\n",
        "                                        4 = Applied to me very much, or most of the time\\n\n",
        "                                        '''),\n",
        "                     gr.Slider(minimum=1,maximum=4,step=1,label=\"1 : I found myself getting upset by quite trivial things.\"),\n",
        "                     gr.Slider(minimum=1,maximum=4,step=1,label=\"2 : I experienced breathing difficulty.\"),\n",
        "                     gr.Slider(minimum=1,maximum=4,step=1,label=\"3 : I found it difficult to relax.\"),\n",
        "                     gr.Slider(minimum=1,maximum=4,step=1,label=\"4 : I found myself getting upset rather easily.\"),\n",
        "                     gr.Slider(minimum=1,maximum=4,step=1,label=\"5 : I felt that I had lost interest in just about everything.\"),\n",
        "                     gr.Slider(minimum=1,maximum=4,step=1,label=\"6 : I found it hard to wind down.\"),\n",
        "                     gr.Slider(minimum=1,maximum=4,step=1,label=\"7 : I found it hard to calm down after something upset me.\"),\n",
        "                     gr.Slider(minimum=1,maximum=4,step=1,label=\"8 : I felt I was pretty worthless.\"),\n",
        "                     gr.Slider(minimum=1,maximum=4,step=1,label=\"9 : I felt that life was meaningless.\"),\n",
        "                     gr.Slider(minimum=1,maximum=4,step=1,label=\"10 : I was worried about situations in which I might panic and make a fool of myself.\"),\n",
        "                     gr.Slider(minimum=1,maximum=4,step=1,label=\"11 : I found it difficult to work up the initiative to do things.\"),\n",
        "                     gr.Markdown('''Question 1-10 have to be answer as per the no. range outlined below: \\n\n",
        "                                        1 = Disagree strongly\\n\n",
        "                                        2 = Disagree moderately\\n\n",
        "                                        3 = Disagree a little\\n\n",
        "                                        4 = Neither agree nor disagree\\n\n",
        "                                        5 = Agree a little\\n\n",
        "                                        6 = Agree moderately\\n\n",
        "                                        7 = Agree strongly\\n'''),\n",
        "                     gr.Slider(minimum=1,maximum=7,step=1,label=\"1 : Extraverted, enthusiastic.\"),\n",
        "                     gr.Slider(minimum=1,maximum=7,step=1,label=\"2 : Critical, quarrelsome.\"),\n",
        "                     gr.Slider(minimum=1,maximum=7,step=1,label=\"3 : Dependable, self-disciplined\"),\n",
        "                     gr.Slider(minimum=1,maximum=7,step=1,label=\"4 : Anxious, easily upset.\"),\n",
        "                     gr.Slider(minimum=1,maximum=7,step=1,label=\"5 : Open to new experiences, complex.\"),\n",
        "                     gr.Slider(minimum=1,maximum=7,step=1,label=\"6 : Reserved, quiet.\"),\n",
        "                     gr.Slider(minimum=1,maximum=7,step=1,label=\"7 : Sympathetic, warm.\"),\n",
        "                     gr.Slider(minimum=1,maximum=7,step=1,label=\"8 : Disorganized, careless.\"),\n",
        "                     gr.Slider(minimum=1,maximum=7,step=1,label=\"9 : Calm, emotionally stable.\"),\n",
        "                     gr.Slider(minimum=1,maximum=7,step=1,label=\"10 : Conventional, uncreative.\"),\n",
        "                     gr.Markdown('''Education:\\n\n",
        "                                        1=Less than high school,\\n\n",
        "                                        2=High school,\\n\n",
        "                                        3=University degree,\\n\n",
        "                                        4=Graduate degree\\n'''),\n",
        "                     gr.Slider(minimum=1,maximum=4,step=1,label=\"Education\"),\n",
        "                     gr.Markdown('''Gender:\\n\n",
        "                                        1=Male,\\n\n",
        "                                        2=Female,\\n\n",
        "                                        3=Other\\n'''),\n",
        "                     gr.Slider(minimum=1,maximum=3,step=1,label=\"Gender\"),\n",
        "                     gr.Markdown('''Race:\\n\n",
        "                                        1=Asian,\\n\n",
        "                                        2=Arab,\\n\n",
        "                                        3=Black,\\n\n",
        "                                        4=Indigenous Australian,\\n\n",
        "                                        5=Native American,\\n\n",
        "                                        6=White,\\n\n",
        "                                        7=Other\\n'''),\n",
        "                     gr.Slider(minimum=1,maximum=7,step=1,label=\"Race\"),\n",
        "                     gr.Markdown('''Married:\\n\n",
        "                                        1=Never married,\\n\n",
        "                                        2=Currently married,\\n\n",
        "                                        3=Previously married\\n'''),\n",
        "                     gr.Slider(minimum=1,maximum=3,step=1,label=\"Married\"),\n",
        "                     gr.Slider(minimum=1,maximum=13,step=1,label=\"FamilySize\"),\n",
        "                     gr.Markdown('''Age_group:\\n\n",
        "                                        1= less then 10,\\n\n",
        "                                        2 = 11 to 16,\\n\n",
        "                                        3 = 17 to 21,\\n\n",
        "                                        4 = 22 to 35,\\n\n",
        "                                        5 = 36 to 48,\\n\n",
        "                                        6 = above 48,\\n'''),\n",
        "                     gr.Slider(minimum=1,maximum=6,step=1,label=\"Age_group\"),],\n",
        "                     outputs=[gr.Textbox(label=\"Level of Depression\")],)\n",
        "\n",
        "app.launch(share=True)"
      ]
    },
    {
      "cell_type": "code",
      "execution_count": null,
      "metadata": {
        "id": "_4KDWZo0x4t3"
      },
      "outputs": [],
      "source": []
    }
  ],
  "metadata": {
    "colab": {
      "provenance": []
    },
    "kernelspec": {
      "display_name": "Python 3",
      "name": "python3"
    },
    "language_info": {
      "name": "python"
    }
  },
  "nbformat": 4,
  "nbformat_minor": 0
}